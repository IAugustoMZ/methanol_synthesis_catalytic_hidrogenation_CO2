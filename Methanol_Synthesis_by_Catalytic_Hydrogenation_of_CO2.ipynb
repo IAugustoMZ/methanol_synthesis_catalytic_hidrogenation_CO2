{
 "cells": [
  {
   "cell_type": "markdown",
   "metadata": {
    "id": "MrxkzhKMvqWZ"
   },
   "source": [
    "# **Methanol Synthesis by Catalytic Hydrogenation of CO2**\n",
    "<br>"
   ]
  },
  {
   "cell_type": "markdown",
   "metadata": {
    "id": "C4aRmFAQ11FY"
   },
   "source": [
    "## **1. Introduction**\n",
    "\n",
    "This script aims to simulate a catalytic reactor design to perform the synthesis of methanol by hydrogenation of CO2. This simulations is based on the work of Gosh *et al.*, 2021.\n",
    "\n"
   ]
  },
  {
   "cell_type": "markdown",
   "metadata": {
    "id": "u7l8bp2914lP"
   },
   "source": [
    "## **2. Hypothesis about the system**\n",
    "\n",
    "- gaseous phase is ideal\n",
    "- stationary operation\n",
    "- reactions follow a Langmuir-Hinshelwood mechanism, where the reactant must adsorve over the catalyst surface before reaction\n",
    "- reference state is 25 °C and 1 bar\n",
    "- methanol adsorption obver catalyst is negligible\n",
    "- both single site and dual site approaches are tested\n",
    "- enthalpy of adsorption is constant over the temperature range\n",
    "- pressure in the bed length is given by Ergun's equation (only for PBR approach)\n",
    "- mass transfer resistances are negligible\n",
    "- no radial dispersion (PBR approach)\n",
    "- the catalyst suffers no desactivation over time\n",
    "- both isothermal and adiabatic approaches are tested\n",
    "- a $In_2O_3$ catalyst is applied"
   ]
  },
  {
   "cell_type": "markdown",
   "metadata": {
    "id": "GDvhwagG17Op"
   },
   "source": [
    "## **3. Reactions considered in this system**\n",
    "\n",
    "<br>\n",
    "\n",
    "$$CO_{2(g)} + 3 H_{2(g)}\\rightleftharpoons CH_3OH_{(g)} + H_2O_{(g)}$$\n",
    "\n",
    "$$CO_{2(g)} + H_{2(g)} \\rightleftharpoons CO_{(g)} + H_2O_{(g)}$$\n",
    "\n",
    "$$CO_{2(g)} + 4 H_{2(g)}\\rightleftharpoons CH_4{(g)} + 2 H_2O_{(g)}$$\n"
   ]
  },
  {
   "cell_type": "markdown",
   "metadata": {
    "id": "JLdIxafu194x"
   },
   "source": [
    "## **4. Rate laws for Langmuir-Hinshelwood mechanism**\n",
    "\n",
    "By following the Langmuir-Hinshelwood mechanism, the rate laws are given by equations below:\n",
    "\n",
    "$$r_{CH_3OH}=\\frac{k_1 \\frac{\\Bigg(P_{CO_2}P_{H_2}^3 - \\frac{P_{CH_3OH}P_{H_2O}}{K_{eq, CH_3OH}}\\Bigg)}{P_{H_2}^2}}{\\text{Inhibition Term}}$$\n",
    "\n",
    "<br>\n",
    "\n",
    "$$r_{RWGS} = \\frac{k_2 \\frac{\\Bigg(P_{CO_2}P_{H_2} - \\frac{P_{CO} P_{H_2O}}{K_{eq, RWGS}}\\Bigg)}{\\sqrt{P_{H_2}}}}{\\text{Inhibition Term}}$$\n",
    "\n",
    "<br>\n",
    "\n",
    "$$r_{CH4} = k_3\\sqrt{P_{CO_2}} \\sqrt{P_{H2}}\\frac{\\Bigg(1-\\frac{P_{CH_4}P_{H_2O}^2}{P_{CO_2}P_{H_2}^4 K_{eq, CH_4}}\\Bigg)}{\\text{Inhibition Term}}$$\n",
    "\n",
    "<br>\n",
    "\n",
    "The expression for the inhibition term will depend on the approach, as follows:\n",
    "\n",
    "<br>\n",
    "\n",
    "$$\\text{Inhibition Term} = (1+K_{CO_2}P_{CO_2}+\\sqrt{K_{H2}P_{H2}})^2\\text{ for the single-site approach}$$\n",
    "\n",
    "<br>\n",
    "\n",
    "$$\\text{Inhibition Term} = (1+K_{CO_2}P_{CO_2})(1+\\sqrt{K_{H2}P_{H2}})\\text{ for the single-site approach}$$\n",
    "\n",
    "<br>\n",
    "\n",
    "Where: \n",
    "- $K_{eq,i}$ is the chemical equilibrium constant, calculated by Gibbs Free Energy, for the reaction $i$; \n",
    "- $K_{ads, k}$ is adsorption equilibrium constant for the component $k$ over the catalyst surface; \n",
    "- $k_i$ is the reaction constant, calculated by Arrhenius law for the reaction $i$, \n",
    "- $P_k$ is the partial pressure of the component $k$\n"
   ]
  },
  {
   "cell_type": "markdown",
   "metadata": {
    "id": "hV5e3jDQ8U-_"
   },
   "source": [
    "## **5. Import libraries and define global constants**"
   ]
  },
  {
   "cell_type": "code",
   "execution_count": 1,
   "metadata": {
    "id": "98JrEFAUv50E"
   },
   "outputs": [],
   "source": [
    "import numpy as np\n",
    "import pandas as pd\n",
    "import math as m\n",
    "import warnings\n",
    "import chemical_properties as cp\n",
    "import thermodynamic as thermo\n",
    "import kinetic as kn\n",
    "import simulation as sim\n",
    "import json\n",
    "\n",
    "R = 8.314472                         # ideal gas universal constant (J/mol.K)\n",
    "\n",
    "warnings.filterwarnings('ignore')"
   ]
  },
  {
   "cell_type": "markdown",
   "metadata": {},
   "source": [
    "## **6. Import physical and chemical data**"
   ]
  },
  {
   "cell_type": "code",
   "execution_count": 2,
   "metadata": {
    "id": "TZIPEXgCmyR2"
   },
   "outputs": [],
   "source": [
    "# physical-chemical data stored as json file\n",
    "f = open('data_dict.json')\n",
    "data_dict = json.load(f)\n",
    "\n",
    "# reaction data stored as json file\n",
    "f = open('reaction_dict.json')\n",
    "reaction_data = json.load(f)"
   ]
  },
  {
   "cell_type": "markdown",
   "metadata": {},
   "source": [
    "## 7. Physical and chemical properties correlations\n",
    "\n",
    "<br>\n",
    "\n",
    "### 7.1 Ideal Gas Heat Capacity (J/kmol.K)\n",
    "\n",
    "<br>\n",
    "\n",
    "$$C_{P} = C_1+C_2\\Bigg[\\frac{\\frac{C_3}{T}}{sinh\\frac{C_3}{T}}\\Bigg]^2+C_4\\Bigg[\\frac{\\frac{C_5}{T}}{cosh \\frac{C_5}{T}}\\Bigg]^2$$\n",
    "\n",
    "<br>\n",
    "\n",
    "### 7.2. Vapor Viscosity (Pa.s)\n",
    "\n",
    "<br>\n",
    "\n",
    "$$\\mu = \\frac{C_1 T^{C_2}}{1+\\frac{C_3}{T}+\\frac{C_4}{T^2}}$$\n",
    "\n",
    "<br>\n",
    "\n",
    "### 7.3. Ideal Gas Mixture Vapor Viscosity (Pa.s)\n",
    "\n",
    "<br>\n",
    "\n",
    "$$\\mu_{mix} = \\sum_{i=1}^N \\frac{y_i \\mu_i}{\\sum_{j=1}^N y_j \\phi_{ij}}$$\n",
    "\n",
    "<br>\n",
    "\n",
    "$$\\phi_{ij} = \\frac{\\Bigg[1+\\sqrt{\\frac{\\mu_i}{\\mu_j}}\\Bigg(\\frac{M_j}{M_i}\\Bigg)^4\\Bigg]^2}{\\frac{4}{\\sqrt{2}}\\sqrt{1+\\frac{M_i}{M_j}}}$$\n",
    "\n",
    "<br>\n",
    "\n",
    "### 7.4. Mixture Density (kg/m³)\n",
    "\n",
    "<br>\n",
    "\n",
    "$$\\rho_{mix} = \\frac{PM_{mix}}{RT}$$\n",
    "\n",
    "<br>\n",
    "\n",
    "$$M_{mix} = \\sum_{i=1}^N y_i M_i$$\n",
    "\n",
    "<br>\n",
    "\n",
    "Where: $M_{mix}$ is the mixture molar mass and $y_i$ is the molar fraction of component $i$"
   ]
  },
  {
   "cell_type": "markdown",
   "metadata": {},
   "source": [
    "## 8. Thermodynamic Functions - Gibbs Free Energy of Reaction and Equilibrium Constant\n",
    "\n",
    "<br>\n",
    "\n",
    "For a reversible reaction, the equilibrium constant is function only of temperature. For a specific reaction $k$:\n",
    "\n",
    "<br>\n",
    "\n",
    "$$K_{eq,k}=exp\\Bigg(\\frac{-\\Delta g_{r,k}}{RT}\\Bigg)$$\n",
    "\n",
    "<br>\n",
    "\n",
    "$$\\Delta g_{r,k} = \\Delta h_{r,k}-T \\Delta s_{r,k}$$\n",
    "\n",
    "$$\\Delta h_{r,k} = \\sum_{i=1}^N \\nu_i \\Delta h_i$$\n",
    "\n",
    "$$\\Delta h_i = \\Delta h_{f,i}^0 + \\int_{T_0}^T C_{P,i}(T) dT$$\n",
    "\n",
    "$$\\Delta s_{r,k} = \\sum_{i=1}^N \\nu_i \\Delta s_i$$\n",
    "\n",
    "$$\\Delta s_i = \\Delta s_{f,i}^0 + \\int_{T_0}^T \\frac{C_{P,i}(T)}{T} dT$$\n",
    "\n",
    "<br>\n",
    "\n",
    "Where: \n",
    "- $R$ is the ideal gas universal constant ($R = 8.314472 J/mol.K$); \n",
    "- $K_{eq,k}$ is the chemical equilibrium constant\n",
    "- $\\Delta g_{r,k}$ is the Gibbs Free Energy of reaction (J/mol)\n",
    "- $\\Delta h_{r,k}$ is the enthalpy of reaction (J/mol)\n",
    "- $\\Delta s_{r,k}$ is the entropy of reaction (J/mol.K)\n",
    "- $T$ is the system's temperature (K)\n",
    "- $\\Delta h_i$ is the enthalpy of component $i$ at reaction's temperature (J/mol)\n",
    "- $\\Delta s_i$ is the entropy of component $i$ at reaction's temperature (J/mol.K)\n",
    "- $\\Delta h_{f,i}^0$ is the standard enthalpy of formation of component $i$ (J/mol)\n",
    "- $\\Delta s_{f,i}^0$ is the standard entropy of formation of component $i$ (J/mol.K)\n",
    "- $\\nu_i$ is the stoichiometric coefficient of component $i$\n",
    "- $C_{P,i}(T)$ is the expression for the ideal gas heat capacity of component $i$ (J/mol.K)"
   ]
  },
  {
   "cell_type": "markdown",
   "metadata": {},
   "source": [
    "## 9. Kinetic Functions - Reaction Constants and Adsorption Phenomena\n",
    "\n",
    "<br>\n",
    "\n",
    "$$k_i = A_i exp\\Bigg(\\frac{-E_{a,i}}{RT}\\Bigg)$$\n",
    "\n",
    "<br>\n",
    "\n",
    "Where: \n",
    "- $A_i$ is the pre-exponential factor for the reaction $i$, \n",
    "- $E_{a,i}$ is activation energy for reaction $i$, \n",
    "- $R$ is the ideal gas universal constant (8.314472 J/mol.K) and $T$ is the temperature.\n",
    "\n",
    "<br>\n",
    "\n",
    "To model the adsorption phenomena, the Vant'Hoff equation was applied to model the effects of both pressure and temperature on the adsorption equilibria constants, as follows.\n",
    "\n",
    "<br>\n",
    "\n",
    "$$K_{ads}=K_{ref}\\Bigg(exp\\Bigg[\\frac{\\Delta h_{ads}}{R}\\Bigg(\\frac{1}{T_{ref}}-\\frac{1}{T}\\Bigg)\\Bigg]\\Bigg)$$\n",
    "\n",
    "<br>\n",
    "\n",
    "- $K_{ads}$ is the adsorption equilibrium constant at temperature $T$\n",
    "- $K_{ref}$ is the adsorption equilibrium constant at reference temperature $T_{ref}$\n",
    "- $\\Delta h_{ads}$ is the heat of adsorption (J/mol)"
   ]
  },
  {
   "cell_type": "code",
   "execution_count": 3,
   "metadata": {},
   "outputs": [
    {
     "data": {
      "text/plain": [
       "{'comp_list': ['CO2', 'H2', 'MeOH', 'H2O', 'CO', 'CH4'],\n",
       " 'unit': {'molar_mass': 'kg/kmol',\n",
       "  'IdealGasCp': 'J/kmol.K',\n",
       "  'vapor_viscosity': 'Pa.s',\n",
       "  'H0f': 'J/kmol',\n",
       "  'S0f': 'J/kmol.K',\n",
       "  'Kref_ads': '1/bar at 300 Â°C',\n",
       "  'deltaHads': 'kJ/mol'},\n",
       " 'molar_mass': {'CO2': 44.01,\n",
       "  'H2': 2.02,\n",
       "  'MeOH': 32.04,\n",
       "  'H2O': 18.02,\n",
       "  'CO': 28.01,\n",
       "  'CH4': 16.04},\n",
       " 'IdealGasCp': {'CO2': {'C1': 29370,\n",
       "   'C2': 34540,\n",
       "   'C3': 1428,\n",
       "   'C4': 26400,\n",
       "   'C5': 588},\n",
       "  'H2': {'C1': 27617, 'C2': 9560, 'C3': 2466, 'C4': 3760, 'C5': 567.6},\n",
       "  'MeOH': {'C1': 39252, 'C2': 87900, 'C3': 1916.5, 'C4': 53654, 'C5': 896.7},\n",
       "  'H2O': {'C1': 33363, 'C2': 26790, 'C3': 2610.5, 'C4': 8896, 'C5': 1169},\n",
       "  'CO': {'C1': 29108, 'C2': 8773, 'C3': 3085, 'C4': 8455.3, 'C5': 1538.2},\n",
       "  'CH4': {'C1': 33298, 'C2': 79933, 'C3': 2086.9, 'C4': 41602, 'C5': 991.96}},\n",
       " 'vapor_viscosity': {'CO2': {'C1': 2.148e-06, 'C2': 0.46, 'C3': 290, 'C4': 0},\n",
       "  'H2': {'C1': 1.797e-07, 'C2': 0.685, 'C3': -0.59, 'C4': 140},\n",
       "  'MeOH': {'C1': 3.0663e-07, 'C2': 0.69655, 'C3': 205, 'C4': 0},\n",
       "  'H2O': {'C1': 1.7096e-08, 'C2': 1.1146, 'C3': 0, 'C4': 0},\n",
       "  'CO': {'C1': 1.1127e-06, 'C2': 0.5338, 'C3': 94.7, 'C4': 0},\n",
       "  'CH4': {'C1': 5.2546e-07, 'C2': 0.59006, 'C3': 105.67, 'C4': 0}},\n",
       " 'H0f': {'CO2': -393510000,\n",
       "  'H2': 0,\n",
       "  'MeOH': -200940000,\n",
       "  'H2O': -241814000,\n",
       "  'CO': -110530000,\n",
       "  'CH4': -74520000},\n",
       " 'S0f': {'CO2': 213677,\n",
       "  'H2': 130571,\n",
       "  'MeOH': 239880,\n",
       "  'H2O': 188724,\n",
       "  'CO': 197556,\n",
       "  'CH4': 186270},\n",
       " 'Kref_ads': {'H2': 0.76, 'CO2': 0.79},\n",
       " 'deltaHads': {'H2': -12.5, 'CO2': -25.9}}"
      ]
     },
     "execution_count": 3,
     "metadata": {},
     "output_type": "execute_result"
    }
   ],
   "source": [
    "data_dict"
   ]
  },
  {
   "cell_type": "code",
   "execution_count": 4,
   "metadata": {},
   "outputs": [
    {
     "data": {
      "text/plain": [
       "{'unit': {'kref': 'mol/s.bar^n kg_cat', 'E_a': 'kJ/mol'},\n",
       " 'description': {'1': 'CO2 + 3 H2 <---> CH3OH + H2O',\n",
       "  '2': 'CO2 + H2 <---> CO + H2O',\n",
       "  '3': 'CO2 + 4 H2 <---> CH4 + 2 H2O'},\n",
       " 'stoichiometry': {'1': [-1, -3, 1, 1, 0, 0],\n",
       "  '2': [-1, -1, 0, 1, 1, 0],\n",
       "  '3': [-1, -4, 0, 2, 0, 1]},\n",
       " 'kref': {'1': 0.00069, '2': 0.0018, '3': 0.00011},\n",
       " 'E_a': {'1': 35.7, '2': 54.5, '3': 42.5},\n",
       " 'equilibrium_constant': {'1': 1, '2': 2, '3': 3},\n",
       " 'heat_reaction': {'1': 1, '2': 2, '3': 3}}"
      ]
     },
     "execution_count": 4,
     "metadata": {},
     "output_type": "execute_result"
    }
   ],
   "source": [
    "reaction_data"
   ]
  },
  {
   "cell_type": "code",
   "execution_count": 5,
   "metadata": {},
   "outputs": [],
   "source": [
    "T0 = 200\n",
    "P0 = 40\n",
    "h2toco2 = 3\n",
    "WHSV = 9000\n",
    "reactor_setup = {\n",
    "    'volume': 100,\n",
    "    'LtoD': 1,\n",
    "    'L': 1,\n",
    "    'D':1\n",
    "}"
   ]
  },
  {
   "cell_type": "code",
   "execution_count": 6,
   "metadata": {},
   "outputs": [],
   "source": [
    "initial_cond, F_dict = sim.prepare_data(T0, P0, WHSV, reactor_setup, h2toco2, comp_dict = data_dict)"
   ]
  },
  {
   "cell_type": "code",
   "execution_count": 7,
   "metadata": {},
   "outputs": [
    {
     "data": {
      "text/plain": [
       "8.536838040424292e-06"
      ]
     },
     "execution_count": 7,
     "metadata": {},
     "output_type": "execute_result"
    }
   ],
   "source": [
    "sim.energy_balance(data_dict, reaction_data, T0+273.15, P0, F_dict, initial_cond, single_model=False)"
   ]
  },
  {
   "cell_type": "code",
   "execution_count": 8,
   "metadata": {},
   "outputs": [
    {
     "data": {
      "text/plain": [
       "CO2    -0.000275\n",
       "H2     -0.000734\n",
       "MeOH    0.000227\n",
       "H2O     0.000277\n",
       "CO      0.000047\n",
       "CH4     0.000002\n",
       "Name: global_rate, dtype: float64"
      ]
     },
     "execution_count": 8,
     "metadata": {},
     "output_type": "execute_result"
    }
   ],
   "source": [
    "sim.material_balance(T0+273.15, P0, F_dict, initial_cond, data_dict, reaction_data, single_model = True)"
   ]
  },
  {
   "cell_type": "code",
   "execution_count": 9,
   "metadata": {},
   "outputs": [
    {
     "data": {
      "text/plain": [
       "{'volume': 100, 'LtoD': 1, 'L': 5.030795991604358, 'D': 5.030795991604358}"
      ]
     },
     "execution_count": 9,
     "metadata": {},
     "output_type": "execute_result"
    }
   ],
   "source": [
    "sim.reactor_dimensions(reactor_setup)\n",
    "reactor_setup"
   ]
  },
  {
   "cell_type": "code",
   "execution_count": 10,
   "metadata": {},
   "outputs": [
    {
     "data": {
      "text/plain": [
       "143.59999999999994"
      ]
     },
     "execution_count": 10,
     "metadata": {},
     "output_type": "execute_result"
    }
   ],
   "source": [
    "initial_cond[0]"
   ]
  },
  {
   "cell_type": "code",
   "execution_count": 11,
   "metadata": {},
   "outputs": [
    {
     "name": "stdout",
     "output_type": "stream",
     "text": [
      "15.495052323387249\n",
      "151.70868392282102\n",
      "-42747.04967287222\n"
     ]
    },
    {
     "data": {
      "text/plain": [
       "-7147466.4188064905"
      ]
     },
     "execution_count": 11,
     "metadata": {},
     "output_type": "execute_result"
    }
   ],
   "source": [
    "m_in = 12*initial_cond[0]\n",
    "sim.calculate_k(F_dict, data_dict, T0+273.15, P0, reactor_setup, m_in)"
   ]
  }
 ],
 "metadata": {
  "colab": {
   "name": "Methanol Synthesis by Catalytic Hydrogenation of CO2",
   "provenance": []
  },
  "kernelspec": {
   "display_name": "Python 3",
   "language": "python",
   "name": "python3"
  },
  "language_info": {
   "codemirror_mode": {
    "name": "ipython",
    "version": 3
   },
   "file_extension": ".py",
   "mimetype": "text/x-python",
   "name": "python",
   "nbconvert_exporter": "python",
   "pygments_lexer": "ipython3",
   "version": "3.8.8"
  }
 },
 "nbformat": 4,
 "nbformat_minor": 1
}
