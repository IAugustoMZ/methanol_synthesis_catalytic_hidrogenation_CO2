{
 "cells": [
  {
   "cell_type": "markdown",
   "metadata": {
    "id": "MrxkzhKMvqWZ"
   },
   "source": [
    "# **Methanol Synthesis by Catalytic Hydrogenation of CO2**\n",
    "<br>"
   ]
  },
  {
   "cell_type": "markdown",
   "metadata": {
    "id": "C4aRmFAQ11FY"
   },
   "source": [
    "## **1. Introduction**\n",
    "\n",
    "This script aims to simulate a catalytic reactor design to perform the synthesis of methanol by hydrogenation of CO2. This simulations is based on the work of Gosh *et al.*, 2021.\n",
    "\n"
   ]
  },
  {
   "cell_type": "markdown",
   "metadata": {
    "id": "u7l8bp2914lP"
   },
   "source": [
    "## **2. Hypothesis about the system**\n",
    "\n",
    "- gaseous phase is ideal\n",
    "- stationary operation\n",
    "- reactions follow a Langmuir-Hinshelwood mechanism, where the reactant must adsorve over the catalyst surface before reaction\n",
    "- reference state is 25 °C and 1 bar\n",
    "- methanol adsorption obver catalyst is negligible\n",
    "- both single site and dual site approaches are tested\n",
    "- enthalpy of adsorption is constant over the temperature range\n",
    "- pressure in the bed length is given by Ergun's equation (only for PBR approach)\n",
    "- mass transfer resistances are negligible\n",
    "- no radial dispersion (PBR approach)\n",
    "- the catalyst suffers no desactivation over time\n",
    "- both isothermal and adiabatic approaches are tested\n",
    "- a $In_2O_3$ catalyst is applied"
   ]
  },
  {
   "cell_type": "markdown",
   "metadata": {
    "id": "GDvhwagG17Op"
   },
   "source": [
    "## **3. Reactions considered in this system**\n",
    "\n",
    "<br>\n",
    "\n",
    "$$CO_{2(g)} + 3 H_{2(g)}\\rightleftharpoons CH_3OH_{(g)} + H_2O_{(g)}$$\n",
    "\n",
    "$$CO_{2(g)} + H_{2(g)} \\rightleftharpoons CO_{(g)} + H_2O_{(g)}$$\n",
    "\n",
    "$$CO_{2(g)} + 4 H_{2(g)}\\rightleftharpoons CH_4{(g)} + 2 H_2O_{(g)}$$\n"
   ]
  },
  {
   "cell_type": "markdown",
   "metadata": {
    "id": "JLdIxafu194x"
   },
   "source": [
    "## **4. Rate laws for Langmuir-Hinshelwood mechanism**\n",
    "\n",
    "By following the Langmuir-Hinshelwood mechanism, the rate laws are given by equations below:\n",
    "\n",
    "$$r_{CH_3OH}=\\frac{k_1 \\frac{\\Bigg(P_{CO_2}P_{H_2}^3 - \\frac{P_{CH_3OH}P_{H_2O}}{K_{eq, CH_3OH}}\\Bigg)}{P_{H_2}^2}}{\\text{Inhibition Term}}$$\n",
    "\n",
    "<br>\n",
    "\n",
    "$$r_{RWGS} = \\frac{k_2 \\frac{\\Bigg(P_{CO_2}P_{H_2} - \\frac{P_{CO} P_{H_2O}}{K_{eq, RWGS}}\\Bigg)}{\\sqrt{P_{H_2}}}}{\\text{Inhibition Term}}$$\n",
    "\n",
    "<br>\n",
    "\n",
    "$$r_{CH4} = k_3\\sqrt{P_{CO_2}} \\sqrt{P_{H2}}\\frac{\\Bigg(1-\\frac{P_{CH_4}P_{H_2O}^2}{P_{CO_2}P_{H_2}^4 K_{eq, CH_4}}\\Bigg)}{\\text{Inhibition Term}}$$\n",
    "\n",
    "<br>\n",
    "\n",
    "The expression for the inhibition term will depend on the approach, as follows:\n",
    "\n",
    "<br>\n",
    "\n",
    "$$\\text{Inhibition Term} = (1+K_{CO_2}P_{CO_2}+\\sqrt{K_{H2}P_{H2}})^2\\text{ for the single-site approach}$$\n",
    "\n",
    "<br>\n",
    "\n",
    "$$\\text{Inhibition Term} = (1+K_{CO_2}P_{CO_2})(1+\\sqrt{K_{H2}P_{H2}})\\text{ for the single-site approach}$$"
   ]
  },
  {
   "cell_type": "markdown",
   "metadata": {
    "id": "hV5e3jDQ8U-_"
   },
   "source": [
    "## **5. Import libraries and define global constants**"
   ]
  },
  {
   "cell_type": "code",
   "execution_count": 1,
   "metadata": {
    "id": "98JrEFAUv50E"
   },
   "outputs": [],
   "source": [
    "import numpy as np\n",
    "import pandas as pd\n",
    "import math as m\n",
    "import warnings\n",
    "import chemical_properties as cp\n",
    "import json\n",
    "\n",
    "R = 8.314472                         # ideal gas universal constant (J/mol.K)\n",
    "\n",
    "warnings.filterwarnings('ignore')"
   ]
  },
  {
   "cell_type": "markdown",
   "metadata": {},
   "source": [
    "## **6. Import physical and chemical data**"
   ]
  },
  {
   "cell_type": "code",
   "execution_count": 2,
   "metadata": {
    "id": "TZIPEXgCmyR2"
   },
   "outputs": [],
   "source": [
    "# physical-chemical data stored as json file\n",
    "f = open('data_dict.json')\n",
    "data_dict = json.load(f)\n",
    "\n",
    "# reaction data stored as json file\n",
    "f = open('reaction_dict.json')\n",
    "reaction_data = json.load(f)"
   ]
  },
  {
   "cell_type": "markdown",
   "metadata": {},
   "source": [
    "## 7. Physical and chemical properties correlations\n",
    "\n",
    "<br>\n",
    "\n",
    "### 7.1 Ideal Gas Heat Capacity (J/kmol.K)\n",
    "\n",
    "<br>\n",
    "\n",
    "$$C_{P} = C_1+C_2\\Bigg[\\frac{\\frac{C_3}{T}}{sinh\\frac{C_3}{T}}\\Bigg]^2+C_4\\Bigg[\\frac{\\frac{C_5}{T}}{cosh \\frac{C_5}{T}}\\Bigg]^2$$\n",
    "\n",
    "<br>\n",
    "\n",
    "### 7.2. Vapor Viscosity (Pa.s)\n",
    "\n",
    "<br>\n",
    "\n",
    "$$\\mu = \\frac{C_1 T^{C_2}}{1+\\frac{C_3}{T}+\\frac{C_4}{T^2}}$$\n",
    "\n",
    "<br>\n",
    "\n",
    "### 7.3. Ideal Gas Mixture Vapor Viscosity (Pa.s)\n",
    "\n",
    "<br>\n",
    "\n",
    "$$\\mu_{mix} = \\sum_{i=1}^N \\frac{y_i \\mu_i}{\\sum_{j=1}^N y_j \\phi_{ij}}$$\n",
    "\n",
    "<br>\n",
    "\n",
    "$$\\phi_{ij} = \\frac{\\Bigg[1+\\sqrt{\\frac{\\mu_i}{\\mu_j}}\\Bigg(\\frac{M_j}{M_i}\\Bigg)^4\\Bigg]^2}{\\frac{4}{\\sqrt{2}}\\sqrt{1+\\frac{M_i}{M_j}}}$$\n",
    "\n",
    "<br>\n",
    "\n",
    "### 7.4. Mixture Density (kg/m³)\n",
    "\n",
    "<br>\n",
    "\n",
    "$$\\rho_{mix} = \\frac{PM_{mix}}{RT}$$\n",
    "\n",
    "<br>\n",
    "\n",
    "$$M_{mix} = \\sum_{i=1}^N y_i M_i$$\n",
    "\n",
    "<br>\n",
    "\n",
    "Where: $M_{mix}$ is the mixture molar mass and $y_i$ is the molar fraction of component $i$"
   ]
  },
  {
   "cell_type": "code",
   "execution_count": null,
   "metadata": {
    "colab": {
     "base_uri": "https://localhost:8080/"
    },
    "id": "chfnkkaDn-gx",
    "outputId": "f73fc6c2-49c1-406e-e8ac-869286922a64"
   },
   "outputs": [],
   "source": []
  },
  {
   "cell_type": "code",
   "execution_count": null,
   "metadata": {
    "id": "4qbKtcoQoicR"
   },
   "outputs": [],
   "source": []
  }
 ],
 "metadata": {
  "colab": {
   "name": "Methanol Synthesis by Catalytic Hydrogenation of CO2",
   "provenance": []
  },
  "kernelspec": {
   "display_name": "Python 3",
   "language": "python",
   "name": "python3"
  },
  "language_info": {
   "codemirror_mode": {
    "name": "ipython",
    "version": 3
   },
   "file_extension": ".py",
   "mimetype": "text/x-python",
   "name": "python",
   "nbconvert_exporter": "python",
   "pygments_lexer": "ipython3",
   "version": "3.8.5"
  }
 },
 "nbformat": 4,
 "nbformat_minor": 1
}
