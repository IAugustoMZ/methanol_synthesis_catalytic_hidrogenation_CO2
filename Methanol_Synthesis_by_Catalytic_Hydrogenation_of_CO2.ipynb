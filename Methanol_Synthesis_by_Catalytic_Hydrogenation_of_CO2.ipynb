{
 "cells": [
  {
   "cell_type": "markdown",
   "metadata": {
    "id": "MrxkzhKMvqWZ"
   },
   "source": [
    "# **Methanol Synthesis by Catalytic Hydrogenation of CO2**\n",
    "<br>"
   ]
  },
  {
   "cell_type": "markdown",
   "metadata": {
    "id": "C4aRmFAQ11FY"
   },
   "source": [
    "## **1. Introduction**\n",
    "\n",
    "This script aims to simulate a catalytic reactor design to perform the synthesis of methanol by hydrogenation of CO2. This simulations is based on the work of Gosh *et al.*, 2021.\n",
    "\n"
   ]
  },
  {
   "cell_type": "markdown",
   "metadata": {
    "id": "u7l8bp2914lP"
   },
   "source": [
    "## **2. Hypothesis about the system**\n",
    "\n",
    "- gaseous phase is ideal\n",
    "- stationary operation\n",
    "- reactions follow a Langmuir-Hinshelwood mechanism, where the reactant must adsorve over the catalyst surface before reaction\n",
    "- reference state is 25 °C and 1 bar\n",
    "- methanol adsorption obver catalyst is negligible\n",
    "- both single site and dual site approaches are tested\n",
    "- enthalpy of adsorption is constant over the temperature range\n",
    "- pressure in the bed length is given by Ergun's equation (only for PBR approach)\n",
    "- mass transfer resistances are negligible\n",
    "- no radial dispersion (PBR approach)\n",
    "- the catalyst suffers no desactivation over time\n",
    "- both isothermal and adiabatic approaches are tested\n",
    "- a $In_2O_3$ catalyst is applied"
   ]
  },
  {
   "cell_type": "markdown",
   "metadata": {
    "id": "GDvhwagG17Op"
   },
   "source": [
    "## **3. Reactions considered in this system**\n",
    "\n",
    "<br>\n",
    "\n",
    "$$CO_{2(g)} + 3 H_{2(g)}\\rightleftharpoons CH_3OH_{(g)} + H_2O_{(g)}$$\n",
    "\n",
    "$$CO_{2(g)} + H_{2(g)} \\rightleftharpoons CO_{(g)} + H_2O_{(g)}$$\n",
    "\n",
    "$$CO_{2(g)} + 4 H_{2(g)}\\rightleftharpoons CH_4{(g)} + 2 H_2O_{(g)}$$\n"
   ]
  },
  {
   "cell_type": "markdown",
   "metadata": {
    "id": "JLdIxafu194x"
   },
   "source": [
    "## **4. Rate laws for Langmuir-Hinshelwood mechanism**\n",
    "\n",
    "By following the Langmuir-Hinshelwood mechanism, the rate laws are given by equations below:\n",
    "\n",
    "$$r_{CH_3OH}=\\frac{k_1 \\frac{\\Bigg(P_{CO_2}P_{H_2}^3 - \\frac{P_{CH_3OH}P_{H_2O}}{K_{eq, CH_3OH}}\\Bigg)}{P_{H_2}^2}}{\\text{Inhibition Term}}$$\n",
    "\n",
    "<br>\n",
    "\n",
    "$$r_{RWGS} = \\frac{k_2 \\frac{\\Bigg(P_{CO_2}P_{H_2} - \\frac{P_{CO} P_{H_2O}}{K_{eq, RWGS}}\\Bigg)}{\\sqrt{P_{H_2}}}}{\\text{Inhibition Term}}$$\n",
    "\n",
    "<br>\n",
    "\n",
    "$$r_{CH4} = k_3\\sqrt{P_{CO_2}} \\sqrt{P_{H2}}\\frac{\\Bigg(1-\\frac{P_{CH_4}P_{H_2O}^2}{P_{CO_2}P_{H_2}^4 K_{eq, CH_4}}\\Bigg)}{\\text{Inhibition Term}}$$\n",
    "\n",
    "<br>\n",
    "\n",
    "The expression for the inhibition term will depend on the approach, as follows:\n",
    "\n",
    "<br>\n",
    "\n",
    "$$\\text{Inhibition Term} = (1+K_{CO_2}P_{CO_2}+\\sqrt{K_{H2}P_{H2}})^2\\text{ for the single-site approach}$$\n",
    "\n",
    "<br>\n",
    "\n",
    "$$\\text{Inhibition Term} = (1+K_{CO_2}P_{CO_2})(1+\\sqrt{K_{H2}P_{H2}})\\text{ for the single-site approach}$$\n",
    "\n",
    "<br>\n",
    "\n",
    "Where: \n",
    "- $K_{eq,i}$ is the chemical equilibrium constant, calculated by Gibbs Free Energy, for the reaction $i$; \n",
    "- $K_{ads, k}$ is adsorption equilibrium constant for the component $k$ over the catalyst surface; \n",
    "- $k_i$ is the reaction constant, calculated by Arrhenius law for the reaction $i$, \n",
    "- $P_k$ is the partial pressure of the component $k$\n"
   ]
  },
  {
   "cell_type": "markdown",
   "metadata": {
    "id": "hV5e3jDQ8U-_"
   },
   "source": [
    "## **5. Import libraries and define global constants**"
   ]
  },
  {
   "cell_type": "code",
   "execution_count": 1,
   "metadata": {
    "id": "98JrEFAUv50E"
   },
   "outputs": [],
   "source": [
    "import numpy as np\n",
    "import pandas as pd\n",
    "import math as m\n",
    "import warnings\n",
    "import chemical_properties as cp\n",
    "import thermodynamic as thermo\n",
    "import kinetic as kn\n",
    "import simulation as sim\n",
    "import json\n",
    "import matplotlib.pyplot as plt\n",
    "\n",
    "R = 8.314472                         # ideal gas universal constant (J/mol.K)\n",
    "\n",
    "warnings.filterwarnings('ignore')"
   ]
  },
  {
   "cell_type": "markdown",
   "metadata": {},
   "source": [
    "## **6. Import physical and chemical data**"
   ]
  },
  {
   "cell_type": "code",
   "execution_count": 2,
   "metadata": {
    "id": "TZIPEXgCmyR2"
   },
   "outputs": [],
   "source": [
    "# physical-chemical data stored as json file\n",
    "f = open('data_dict.json')\n",
    "data_dict = json.load(f)\n",
    "\n",
    "# reaction data stored as json file\n",
    "f = open('reaction_dict.json')\n",
    "reaction_data = json.load(f)"
   ]
  },
  {
   "cell_type": "markdown",
   "metadata": {},
   "source": [
    "## 7. Physical and chemical properties correlations\n",
    "\n",
    "<br>\n",
    "\n",
    "### 7.1 Ideal Gas Heat Capacity (J/kmol.K)\n",
    "\n",
    "<br>\n",
    "\n",
    "$$C_{P} = C_1+C_2\\Bigg[\\frac{\\frac{C_3}{T}}{sinh\\frac{C_3}{T}}\\Bigg]^2+C_4\\Bigg[\\frac{\\frac{C_5}{T}}{cosh \\frac{C_5}{T}}\\Bigg]^2$$\n",
    "\n",
    "<br>\n",
    "\n",
    "### 7.2. Vapor Viscosity (Pa.s)\n",
    "\n",
    "<br>\n",
    "\n",
    "$$\\mu = \\frac{C_1 T^{C_2}}{1+\\frac{C_3}{T}+\\frac{C_4}{T^2}}$$\n",
    "\n",
    "<br>\n",
    "\n",
    "### 7.3. Ideal Gas Mixture Vapor Viscosity (Pa.s)\n",
    "\n",
    "<br>\n",
    "\n",
    "$$\\mu_{mix} = \\sum_{i=1}^N \\frac{y_i \\mu_i}{\\sum_{j=1}^N y_j \\phi_{ij}}$$\n",
    "\n",
    "<br>\n",
    "\n",
    "$$\\phi_{ij} = \\frac{\\Bigg[1+\\sqrt{\\frac{\\mu_i}{\\mu_j}}\\Bigg(\\frac{M_j}{M_i}\\Bigg)^4\\Bigg]^2}{\\frac{4}{\\sqrt{2}}\\sqrt{1+\\frac{M_i}{M_j}}}$$\n",
    "\n",
    "<br>\n",
    "\n",
    "### 7.4. Mixture Density (kg/m³)\n",
    "\n",
    "<br>\n",
    "\n",
    "$$\\rho_{mix} = \\frac{PM_{mix}}{RT}$$\n",
    "\n",
    "<br>\n",
    "\n",
    "$$M_{mix} = \\sum_{i=1}^N y_i M_i$$\n",
    "\n",
    "<br>\n",
    "\n",
    "Where: $M_{mix}$ is the mixture molar mass and $y_i$ is the molar fraction of component $i$"
   ]
  },
  {
   "cell_type": "markdown",
   "metadata": {},
   "source": [
    "## 8. Thermodynamic Functions - Gibbs Free Energy of Reaction and Equilibrium Constant\n",
    "\n",
    "<br>\n",
    "\n",
    "For a reversible reaction, the equilibrium constant is function only of temperature. For a specific reaction $k$:\n",
    "\n",
    "<br>\n",
    "\n",
    "$$K_{eq,k}=exp\\Bigg(\\frac{-\\Delta g_{r,k}}{RT}\\Bigg)$$\n",
    "\n",
    "<br>\n",
    "\n",
    "$$\\Delta g_{r,k} = \\Delta h_{r,k}-T \\Delta s_{r,k}$$\n",
    "\n",
    "$$\\Delta h_{r,k} = \\sum_{i=1}^N \\nu_i \\Delta h_i$$\n",
    "\n",
    "$$\\Delta h_i = \\Delta h_{f,i}^0 + \\int_{T_0}^T C_{P,i}(T) dT$$\n",
    "\n",
    "$$\\Delta s_{r,k} = \\sum_{i=1}^N \\nu_i \\Delta s_i$$\n",
    "\n",
    "$$\\Delta s_i = \\Delta s_{f,i}^0 + \\int_{T_0}^T \\frac{C_{P,i}(T)}{T} dT$$\n",
    "\n",
    "<br>\n",
    "\n",
    "Where: \n",
    "- $R$ is the ideal gas universal constant ($R = 8.314472 J/mol.K$); \n",
    "- $K_{eq,k}$ is the chemical equilibrium constant\n",
    "- $\\Delta g_{r,k}$ is the Gibbs Free Energy of reaction (J/mol)\n",
    "- $\\Delta h_{r,k}$ is the enthalpy of reaction (J/mol)\n",
    "- $\\Delta s_{r,k}$ is the entropy of reaction (J/mol.K)\n",
    "- $T$ is the system's temperature (K)\n",
    "- $\\Delta h_i$ is the enthalpy of component $i$ at reaction's temperature (J/mol)\n",
    "- $\\Delta s_i$ is the entropy of component $i$ at reaction's temperature (J/mol.K)\n",
    "- $\\Delta h_{f,i}^0$ is the standard enthalpy of formation of component $i$ (J/mol)\n",
    "- $\\Delta s_{f,i}^0$ is the standard entropy of formation of component $i$ (J/mol.K)\n",
    "- $\\nu_i$ is the stoichiometric coefficient of component $i$\n",
    "- $C_{P,i}(T)$ is the expression for the ideal gas heat capacity of component $i$ (J/mol.K)"
   ]
  },
  {
   "cell_type": "markdown",
   "metadata": {},
   "source": [
    "## 9. Kinetic Functions - Reaction Constants and Adsorption Phenomena\n",
    "\n",
    "<br>\n",
    "\n",
    "$$k_i = A_i exp\\Bigg(\\frac{-E_{a,i}}{RT}\\Bigg)$$\n",
    "\n",
    "<br>\n",
    "\n",
    "Where: \n",
    "- $A_i$ is the pre-exponential factor for the reaction $i$, \n",
    "- $E_{a,i}$ is activation energy for reaction $i$, \n",
    "- $R$ is the ideal gas universal constant (8.314472 J/mol.K) and $T$ is the temperature.\n",
    "\n",
    "<br>\n",
    "\n",
    "To model the adsorption phenomena, the Vant'Hoff equation was applied to model the effects of both pressure and temperature on the adsorption equilibria constants, as follows.\n",
    "\n",
    "<br>\n",
    "\n",
    "$$K_{ads}=K_{ref}\\Bigg(exp\\Bigg[\\frac{\\Delta h_{ads}}{R}\\Bigg(\\frac{1}{T_{ref}}-\\frac{1}{T}\\Bigg)\\Bigg]\\Bigg)$$\n",
    "\n",
    "<br>\n",
    "\n",
    "- $K_{ads}$ is the adsorption equilibrium constant at temperature $T$\n",
    "- $K_{ref}$ is the adsorption equilibrium constant at reference temperature $T_{ref}$\n",
    "- $\\Delta h_{ads}$ is the heat of adsorption (J/mol)"
   ]
  },
  {
   "cell_type": "code",
   "execution_count": 3,
   "metadata": {},
   "outputs": [
    {
     "data": {
      "text/plain": [
       "{'comp_list': ['CO2', 'H2', 'MeOH', 'H2O', 'CO', 'CH4'],\n",
       " 'unit': {'molar_mass': 'kg/kmol',\n",
       "  'IdealGasCp': 'J/kmol.K',\n",
       "  'vapor_viscosity': 'Pa.s',\n",
       "  'H0f': 'J/kmol',\n",
       "  'S0f': 'J/kmol.K',\n",
       "  'Kref_ads': '1/bar at 300 Â°C',\n",
       "  'deltaHads': 'kJ/mol'},\n",
       " 'molar_mass': {'CO2': 44.01,\n",
       "  'H2': 2.02,\n",
       "  'MeOH': 32.04,\n",
       "  'H2O': 18.02,\n",
       "  'CO': 28.01,\n",
       "  'CH4': 16.04},\n",
       " 'IdealGasCp': {'CO2': {'C1': 29370,\n",
       "   'C2': 34540,\n",
       "   'C3': 1428,\n",
       "   'C4': 26400,\n",
       "   'C5': 588},\n",
       "  'H2': {'C1': 27617, 'C2': 9560, 'C3': 2466, 'C4': 3760, 'C5': 567.6},\n",
       "  'MeOH': {'C1': 39252, 'C2': 87900, 'C3': 1916.5, 'C4': 53654, 'C5': 896.7},\n",
       "  'H2O': {'C1': 33363, 'C2': 26790, 'C3': 2610.5, 'C4': 8896, 'C5': 1169},\n",
       "  'CO': {'C1': 29108, 'C2': 8773, 'C3': 3085, 'C4': 8455.3, 'C5': 1538.2},\n",
       "  'CH4': {'C1': 33298, 'C2': 79933, 'C3': 2086.9, 'C4': 41602, 'C5': 991.96}},\n",
       " 'vapor_viscosity': {'CO2': {'C1': 2.148e-06, 'C2': 0.46, 'C3': 290, 'C4': 0},\n",
       "  'H2': {'C1': 1.797e-07, 'C2': 0.685, 'C3': -0.59, 'C4': 140},\n",
       "  'MeOH': {'C1': 3.0663e-07, 'C2': 0.69655, 'C3': 205, 'C4': 0},\n",
       "  'H2O': {'C1': 1.7096e-08, 'C2': 1.1146, 'C3': 0, 'C4': 0},\n",
       "  'CO': {'C1': 1.1127e-06, 'C2': 0.5338, 'C3': 94.7, 'C4': 0},\n",
       "  'CH4': {'C1': 5.2546e-07, 'C2': 0.59006, 'C3': 105.67, 'C4': 0}},\n",
       " 'H0f': {'CO2': -393510000,\n",
       "  'H2': 0,\n",
       "  'MeOH': -200940000,\n",
       "  'H2O': -241814000,\n",
       "  'CO': -110530000,\n",
       "  'CH4': -74520000},\n",
       " 'S0f': {'CO2': 213677,\n",
       "  'H2': 130571,\n",
       "  'MeOH': 239880,\n",
       "  'H2O': 188724,\n",
       "  'CO': 197556,\n",
       "  'CH4': 186270},\n",
       " 'Kref_ads': {'H2': 0.76, 'CO2': 0.79},\n",
       " 'deltaHads': {'H2': -12.5, 'CO2': -25.9}}"
      ]
     },
     "execution_count": 3,
     "metadata": {},
     "output_type": "execute_result"
    }
   ],
   "source": [
    "data_dict"
   ]
  },
  {
   "cell_type": "code",
   "execution_count": 4,
   "metadata": {},
   "outputs": [
    {
     "data": {
      "text/plain": [
       "{'unit': {'kref': 'mol/s.bar^n kg_cat', 'E_a': 'kJ/mol'},\n",
       " 'description': {'1': 'CO2 + 3 H2 <---> CH3OH + H2O',\n",
       "  '2': 'CO2 + H2 <---> CO + H2O',\n",
       "  '3': 'CO2 + 4 H2 <---> CH4 + 2 H2O'},\n",
       " 'stoichiometry': {'1': [-1, -3, 1, 1, 0, 0],\n",
       "  '2': [-1, -1, 0, 1, 1, 0],\n",
       "  '3': [-1, -4, 0, 2, 0, 1]},\n",
       " 'kref': {'1': 0.00069, '2': 0.0018, '3': 0.00011},\n",
       " 'E_a': {'1': 35.7, '2': 54.5, '3': 42.5},\n",
       " 'equilibrium_constant': {'1': 1, '2': 2, '3': 3},\n",
       " 'heat_reaction': {'1': 1, '2': 2, '3': 3}}"
      ]
     },
     "execution_count": 4,
     "metadata": {},
     "output_type": "execute_result"
    }
   ],
   "source": [
    "reaction_data"
   ]
  },
  {
   "cell_type": "code",
   "execution_count": 5,
   "metadata": {},
   "outputs": [],
   "source": [
    "T0 = 400\n",
    "P0 = 40\n",
    "h2toco2 = 3\n",
    "WHSV = 500\n",
    "reactor_setup = {\n",
    "    'volume': 100,\n",
    "    'LtoD': 50,\n",
    "    'L': 1,\n",
    "    'D':1,\n",
    "    'N_tubes': 100\n",
    "}"
   ]
  },
  {
   "cell_type": "code",
   "execution_count": 6,
   "metadata": {},
   "outputs": [],
   "source": [
    "initial_cond, F_dict = sim.prepare_data(T0, P0, WHSV, reactor_setup, h2toco2, comp_dict = data_dict)"
   ]
  },
  {
   "cell_type": "code",
   "execution_count": 7,
   "metadata": {},
   "outputs": [
    {
     "data": {
      "text/plain": [
       "{'volume': 100,\n",
       " 'LtoD': 50,\n",
       " 'L': 14.71013671678133,\n",
       " 'D': 0.2942027343356266,\n",
       " 'N_tubes': 100}"
      ]
     },
     "execution_count": 7,
     "metadata": {},
     "output_type": "execute_result"
    }
   ],
   "source": [
    "sim.reactor_dimensions(reactor_setup)\n",
    "reactor_setup"
   ]
  },
  {
   "cell_type": "code",
   "execution_count": 8,
   "metadata": {},
   "outputs": [],
   "source": [
    "m_in = 12*initial_cond[0]"
   ]
  },
  {
   "cell_type": "code",
   "execution_count": 9,
   "metadata": {},
   "outputs": [
    {
     "data": {
      "text/plain": [
       "0.9573333333333329"
      ]
     },
     "execution_count": 9,
     "metadata": {},
     "output_type": "execute_result"
    }
   ],
   "source": [
    "m_in"
   ]
  },
  {
   "cell_type": "code",
   "execution_count": 10,
   "metadata": {},
   "outputs": [
    {
     "data": {
      "text/plain": [
       "0.3452592705745641"
      ]
     },
     "execution_count": 10,
     "metadata": {},
     "output_type": "execute_result"
    }
   ],
   "source": [
    "initial_cond[0]*4/(m.pi*reactor_setup['D'])"
   ]
  },
  {
   "cell_type": "code",
   "execution_count": 11,
   "metadata": {},
   "outputs": [
    {
     "name": "stdout",
     "output_type": "stream",
     "text": [
      "Wall time: 13.9 s\n"
     ]
    }
   ],
   "source": [
    "%%time\n",
    "profile_df = sim.runge_kutta(initial_cond, F_dict, m_in, reactor_setup, data_dict, reaction_data, N = 100)"
   ]
  },
  {
   "cell_type": "code",
   "execution_count": 12,
   "metadata": {},
   "outputs": [
    {
     "data": {
      "text/html": [
       "<div>\n",
       "<style scoped>\n",
       "    .dataframe tbody tr th:only-of-type {\n",
       "        vertical-align: middle;\n",
       "    }\n",
       "\n",
       "    .dataframe tbody tr th {\n",
       "        vertical-align: top;\n",
       "    }\n",
       "\n",
       "    .dataframe thead th {\n",
       "        text-align: right;\n",
       "    }\n",
       "</style>\n",
       "<table border=\"1\" class=\"dataframe\">\n",
       "  <thead>\n",
       "    <tr style=\"text-align: right;\">\n",
       "      <th></th>\n",
       "      <th>x</th>\n",
       "      <th>T_K</th>\n",
       "      <th>P_bar</th>\n",
       "      <th>F_CO2</th>\n",
       "      <th>F_H2</th>\n",
       "      <th>F_MeOH</th>\n",
       "      <th>F_H2O</th>\n",
       "      <th>F_CO</th>\n",
       "      <th>F_CH4</th>\n",
       "    </tr>\n",
       "  </thead>\n",
       "  <tbody>\n",
       "    <tr>\n",
       "      <th>0</th>\n",
       "      <td>0.0</td>\n",
       "      <td>673.15</td>\n",
       "      <td>40.0</td>\n",
       "      <td>14.253956</td>\n",
       "      <td>42.761868</td>\n",
       "      <td>0</td>\n",
       "      <td>0</td>\n",
       "      <td>0</td>\n",
       "      <td>0</td>\n",
       "    </tr>\n",
       "    <tr>\n",
       "      <th>1</th>\n",
       "      <td>0.148587</td>\n",
       "      <td>673.172134</td>\n",
       "      <td>40.0</td>\n",
       "      <td>14.153544</td>\n",
       "      <td>42.552073</td>\n",
       "      <td>0.053774</td>\n",
       "      <td>0.101023</td>\n",
       "      <td>0.101023</td>\n",
       "      <td>0.046026</td>\n",
       "    </tr>\n",
       "    <tr>\n",
       "      <th>2</th>\n",
       "      <td>0.297174</td>\n",
       "      <td>673.193697</td>\n",
       "      <td>40.0</td>\n",
       "      <td>14.053901</td>\n",
       "      <td>42.344483</td>\n",
       "      <td>0.106827</td>\n",
       "      <td>0.20128</td>\n",
       "      <td>0.20128</td>\n",
       "      <td>0.092003</td>\n",
       "    </tr>\n",
       "    <tr>\n",
       "      <th>3</th>\n",
       "      <td>0.445762</td>\n",
       "      <td>673.213865</td>\n",
       "      <td>40.0</td>\n",
       "      <td>13.956103</td>\n",
       "      <td>42.142289</td>\n",
       "      <td>0.158103</td>\n",
       "      <td>0.299693</td>\n",
       "      <td>0.299693</td>\n",
       "      <td>0.13791</td>\n",
       "    </tr>\n",
       "    <tr>\n",
       "      <th>4</th>\n",
       "      <td>0.594349</td>\n",
       "      <td>673.231838</td>\n",
       "      <td>40.0</td>\n",
       "      <td>13.861202</td>\n",
       "      <td>41.948599</td>\n",
       "      <td>0.206572</td>\n",
       "      <td>0.395211</td>\n",
       "      <td>0.395211</td>\n",
       "      <td>0.183726</td>\n",
       "    </tr>\n",
       "    <tr>\n",
       "      <th>...</th>\n",
       "      <td>...</td>\n",
       "      <td>...</td>\n",
       "      <td>...</td>\n",
       "      <td>...</td>\n",
       "      <td>...</td>\n",
       "      <td>...</td>\n",
       "      <td>...</td>\n",
       "      <td>...</td>\n",
       "      <td>...</td>\n",
       "    </tr>\n",
       "    <tr>\n",
       "      <th>95</th>\n",
       "      <td>14.115788</td>\n",
       "      <td>671.753493</td>\n",
       "      <td>40.0</td>\n",
       "      <td>10.614796</td>\n",
       "      <td>38.780578</td>\n",
       "      <td>0.080129</td>\n",
       "      <td>3.699784</td>\n",
       "      <td>3.699784</td>\n",
       "      <td>3.498407</td>\n",
       "    </tr>\n",
       "    <tr>\n",
       "      <th>96</th>\n",
       "      <td>14.264375</td>\n",
       "      <td>671.743611</td>\n",
       "      <td>40.0</td>\n",
       "      <td>10.591073</td>\n",
       "      <td>38.756774</td>\n",
       "      <td>0.079189</td>\n",
       "      <td>3.72416</td>\n",
       "      <td>3.72416</td>\n",
       "      <td>3.522416</td>\n",
       "    </tr>\n",
       "    <tr>\n",
       "      <th>97</th>\n",
       "      <td>14.412962</td>\n",
       "      <td>671.733885</td>\n",
       "      <td>40.0</td>\n",
       "      <td>10.567625</td>\n",
       "      <td>38.733194</td>\n",
       "      <td>0.078273</td>\n",
       "      <td>3.748263</td>\n",
       "      <td>3.748263</td>\n",
       "      <td>3.546126</td>\n",
       "    </tr>\n",
       "    <tr>\n",
       "      <th>98</th>\n",
       "      <td>14.561549</td>\n",
       "      <td>671.724312</td>\n",
       "      <td>40.0</td>\n",
       "      <td>10.544451</td>\n",
       "      <td>38.70984</td>\n",
       "      <td>0.077382</td>\n",
       "      <td>3.772091</td>\n",
       "      <td>3.772091</td>\n",
       "      <td>3.569536</td>\n",
       "    </tr>\n",
       "    <tr>\n",
       "      <th>99</th>\n",
       "      <td>14.710137</td>\n",
       "      <td>671.714893</td>\n",
       "      <td>40.0</td>\n",
       "      <td>10.521551</td>\n",
       "      <td>38.686713</td>\n",
       "      <td>0.076515</td>\n",
       "      <td>3.795645</td>\n",
       "      <td>3.795645</td>\n",
       "      <td>3.592649</td>\n",
       "    </tr>\n",
       "  </tbody>\n",
       "</table>\n",
       "<p>100 rows × 9 columns</p>\n",
       "</div>"
      ],
      "text/plain": [
       "            x         T_K P_bar      F_CO2       F_H2    F_MeOH     F_H2O  \\\n",
       "0         0.0      673.15  40.0  14.253956  42.761868         0         0   \n",
       "1    0.148587  673.172134  40.0  14.153544  42.552073  0.053774  0.101023   \n",
       "2    0.297174  673.193697  40.0  14.053901  42.344483  0.106827   0.20128   \n",
       "3    0.445762  673.213865  40.0  13.956103  42.142289  0.158103  0.299693   \n",
       "4    0.594349  673.231838  40.0  13.861202  41.948599  0.206572  0.395211   \n",
       "..        ...         ...   ...        ...        ...       ...       ...   \n",
       "95  14.115788  671.753493  40.0  10.614796  38.780578  0.080129  3.699784   \n",
       "96  14.264375  671.743611  40.0  10.591073  38.756774  0.079189   3.72416   \n",
       "97  14.412962  671.733885  40.0  10.567625  38.733194  0.078273  3.748263   \n",
       "98  14.561549  671.724312  40.0  10.544451   38.70984  0.077382  3.772091   \n",
       "99  14.710137  671.714893  40.0  10.521551  38.686713  0.076515  3.795645   \n",
       "\n",
       "        F_CO     F_CH4  \n",
       "0          0         0  \n",
       "1   0.101023  0.046026  \n",
       "2    0.20128  0.092003  \n",
       "3   0.299693   0.13791  \n",
       "4   0.395211  0.183726  \n",
       "..       ...       ...  \n",
       "95  3.699784  3.498407  \n",
       "96   3.72416  3.522416  \n",
       "97  3.748263  3.546126  \n",
       "98  3.772091  3.569536  \n",
       "99  3.795645  3.592649  \n",
       "\n",
       "[100 rows x 9 columns]"
      ]
     },
     "execution_count": 12,
     "metadata": {},
     "output_type": "execute_result"
    }
   ],
   "source": [
    "profile_df"
   ]
  }
 ],
 "metadata": {
  "colab": {
   "name": "Methanol Synthesis by Catalytic Hydrogenation of CO2",
   "provenance": []
  },
  "kernelspec": {
   "display_name": "Python 3",
   "language": "python",
   "name": "python3"
  },
  "language_info": {
   "codemirror_mode": {
    "name": "ipython",
    "version": 3
   },
   "file_extension": ".py",
   "mimetype": "text/x-python",
   "name": "python",
   "nbconvert_exporter": "python",
   "pygments_lexer": "ipython3",
   "version": "3.8.8"
  }
 },
 "nbformat": 4,
 "nbformat_minor": 1
}
